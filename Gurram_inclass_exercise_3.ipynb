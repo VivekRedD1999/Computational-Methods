{
  "cells": [
    {
      "cell_type": "markdown",
      "metadata": {
        "id": "view-in-github",
        "colab_type": "text"
      },
      "source": [
        "<a href=\"https://colab.research.google.com/github/VivekRedD1999/Computational-Methods/blob/main/Gurram_inclass_exercise_3.ipynb\" target=\"_parent\"><img src=\"https://colab.research.google.com/assets/colab-badge.svg\" alt=\"Open In Colab\"/></a>"
      ]
    },
    {
      "cell_type": "markdown",
      "metadata": {
        "id": "wL51NeJFskSH"
      },
      "source": [
        "## The third In-class-exercise (10/06/2022, 40 points in total)"
      ]
    },
    {
      "cell_type": "markdown",
      "metadata": {
        "id": "tfskIlvPskSK"
      },
      "source": [
        "The purpose of this exercise is to understand text representation."
      ]
    },
    {
      "cell_type": "markdown",
      "metadata": {
        "id": "o3Htde-HskSL"
      },
      "source": [
        "Question 1 (10 points): Describe an interesting text classification or text mining task and explain what kind of features might be useful for you to build the machine learning model. List your features and explain why these features might be helpful. You need to list at least five different types of features."
      ]
    },
    {
      "cell_type": "code",
      "execution_count": null,
      "metadata": {
        "colab": {
          "base_uri": "https://localhost:8080/",
          "height": 122
        },
        "id": "Aj84HEpPskSL",
        "outputId": "c4607b9d-99d0-4299-9221-aaa03dd586df"
      },
      "outputs": [
        {
          "output_type": "execute_result",
          "data": {
            "text/plain": [
              "'\\nPlease write you answer here:\\nEmail is an effective, fast and reasonably cheap way to communicate, but it comes with a dark side: spam. Today, \\nspam is a major issue for internet service providers, increasing their costs for service management and hardware software updating. \\nFor users, spam is both an entry point for viruses and a detriment to productivity. \\nText mining techniques can be implemented to improve the effectiveness of statistical filtering methods by leveraging established prior knowledge. \\nThis not only makes for more efficient email management, but it improves the user experience considerably.\\n\\nfor this task, the important features are \\n1) Smam text either by email or sms text\\n2) spam mailid tags\\n3) Spam output as target variable \\n4) class of the text \\n5) subject of the mail\\n\\n\\n\\n\\n\\n'"
            ],
            "application/vnd.google.colaboratory.intrinsic+json": {
              "type": "string"
            }
          },
          "metadata": {},
          "execution_count": 1
        }
      ],
      "source": [
        "# Your answer here (no code for this question, write down your answer as detail as possible for the above questions):\n",
        "\n",
        "'''\n",
        "Please write you answer here:\n",
        "Email is an effective, fast and reasonably cheap way to communicate, but it comes with a dark side: spam. Today, \n",
        "spam is a major issue for internet service providers, increasing their costs for service management and hardware software updating. \n",
        "For users, spam is both an entry point for viruses and a detriment to productivity. \n",
        "Text mining techniques can be implemented to improve the effectiveness of statistical filtering methods by leveraging established prior knowledge. \n",
        "This not only makes for more efficient email management, but it improves the user experience considerably.\n",
        "\n",
        "for this task, the important features are \n",
        "1) Smam text either by email or sms text\n",
        "2) spam mailid tags\n",
        "3) Spam output as target variable \n",
        "4) class of the text \n",
        "5) subject of the mail\n",
        "\n",
        "\n",
        "\n",
        "\n",
        "\n",
        "'''"
      ]
    },
    {
      "cell_type": "markdown",
      "metadata": {
        "id": "jJl7EIqPskSN"
      },
      "source": [
        "Question 2 (20 points): Write python code to extract these features you discussed above. You can collect a few sample text data for the feature extraction. "
      ]
    },
    {
      "cell_type": "code",
      "execution_count": null,
      "metadata": {
        "id": "UH_txqpDskSN"
      },
      "outputs": [],
      "source": [
        "# You code here (Please add comments in the code):\n",
        "\n",
        "\n"
      ]
    },
    {
      "cell_type": "markdown",
      "metadata": {
        "id": "7W9kU3XYskSO"
      },
      "source": [
        "Question 3 (10 points): Use any of the feature selection methods mentioned in this paper \"Deng, X., Li, Y., Weng, J., & Zhang, J. (2019). Feature selection for text classification: A review. Multimedia Tools & Applications, 78(3).\" Select the most important features you extracted above, rank the features based on their importance in the descending order. "
      ]
    },
    {
      "cell_type": "code",
      "execution_count": null,
      "metadata": {
        "id": "kx5AyTxdskSP"
      },
      "outputs": [],
      "source": [
        "# You code here (Please add comments in the code):\n",
        "\n",
        "\n",
        "\n"
      ]
    }
  ],
  "metadata": {
    "kernelspec": {
      "display_name": "Python 3 (ipykernel)",
      "language": "python",
      "name": "python3"
    },
    "language_info": {
      "codemirror_mode": {
        "name": "ipython",
        "version": 3
      },
      "file_extension": ".py",
      "mimetype": "text/x-python",
      "name": "python",
      "nbconvert_exporter": "python",
      "pygments_lexer": "ipython3",
      "version": "3.9.12"
    },
    "colab": {
      "provenance": [],
      "include_colab_link": true
    }
  },
  "nbformat": 4,
  "nbformat_minor": 0
}