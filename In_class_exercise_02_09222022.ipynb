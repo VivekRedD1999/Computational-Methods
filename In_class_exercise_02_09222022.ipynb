{
  "cells": [
    {
      "cell_type": "markdown",
      "metadata": {
        "id": "view-in-github",
        "colab_type": "text"
      },
      "source": [
        "<a href=\"https://colab.research.google.com/github/VivekRedD1999/Computational-Methods/blob/main/In_class_exercise_02_09222022.ipynb\" target=\"_parent\"><img src=\"https://colab.research.google.com/assets/colab-badge.svg\" alt=\"Open In Colab\"/></a>"
      ]
    },
    {
      "cell_type": "markdown",
      "metadata": {
        "id": "kDv753zJZAhF"
      },
      "source": [
        "## The second In-class-exercise (09/22/2022, 40 points in total)"
      ]
    },
    {
      "cell_type": "markdown",
      "metadata": {
        "id": "LsS-6Y-RZAhJ"
      },
      "source": [
        "The purpose of this exercise is to understand users' information needs, then collect data from different sources for analysis."
      ]
    },
    {
      "cell_type": "markdown",
      "metadata": {
        "id": "fvY7g92iZAhK"
      },
      "source": [
        "Question 1 (10 points): Describe an interesting research question (or practical question) you have in mind, what kind of data should be collected to answer the question(s)? How many data needed for the analysis? The detail steps for collecting and save the data. "
      ]
    },
    {
      "cell_type": "code",
      "execution_count": null,
      "metadata": {
        "id": "T7uINKLXZAhL",
        "outputId": "8c2a10c7-bd9a-4671-a0ad-d6a93700935b"
      },
      "outputs": [
        {
          "data": {
            "text/plain": [
              "\"\\nPlease write you answer here:\\nQuestion: which author's and what genere books are highly rated in good reads.com for better reccomendation and targeted\\ndiscounts on books?\\n\\nAnswer: for this problem, we need to collect books authors name, book name, book title, average rating, total rating.\\nwe need to scrape almost all the books data present in the goodreads.com for the analysis. with this data by doing analysis\\nwe'll get to know the most popular authors, popular books. by applying machine learning techniques, Also collecting customer data\\nthey can recomend books to the customers based on similar intrests and organisation can also provide targeted discounts on some \\nbooks\\n\\n\""
            ]
          },
          "execution_count": 2,
          "metadata": {},
          "output_type": "execute_result"
        }
      ],
      "source": [
        "# Your answer here (no code for this question, write down your answer as detail as possible for the above questions):\n",
        "\n",
        "'''\n",
        "Please write you answer here:\n",
        "Question: which author's and what genere books are highly rated in good reads.com for better reccomendation and targeted\n",
        "discounts on books?\n",
        "\n",
        "Answer: for this problem, we need to collect books authors name, book name, book title, average rating, total rating.\n",
        "we need to scrape almost all the books data present in the goodreads.com for the analysis. with this data by doing analysis\n",
        "we'll get to know the most popular authors, popular books. by applying machine learning techniques, Also collecting customer data\n",
        "they can recomend books to the customers based on similar intrests and organisation can also provide targeted discounts on some \n",
        "books\n",
        "\n",
        "'''"
      ]
    },
    {
      "cell_type": "markdown",
      "metadata": {
        "id": "1ptBXhrHZAhP"
      },
      "source": [
        "Question 2 (10 points): Write python code to collect 1000 data samples you discussed above."
      ]
    },
    {
      "cell_type": "code",
      "execution_count": null,
      "metadata": {
        "id": "gYE8DyqPZAhP"
      },
      "outputs": [],
      "source": [
        "# You code here (Please add comments in the code):\n",
        "import pandas as pd\n",
        "import numpy as np\n",
        "import requests\n",
        "from bs4 import BeautifulSoup\n",
        "import re\n",
        "import time\n",
        "\n",
        "#Created four lists to store the data like bookname, authorname, ratings, pagenum from the url https://www.goodreads.com/list/show/10048.Non_fiction_Something_for_Everyone?page=1\n",
        "bookname = []\n",
        "authorname = []\n",
        "ratings = []\n",
        "\n",
        "for i in range(1,29): # covering total 28 pages.\n",
        "    start_time = time.time()\n",
        "    #URL to scrape the data from good reads website\n",
        "    URL = 'https://www.goodreads.com/list/show/10048.Non_fiction_Something_for_Everyone?page={}'.format(i)\n",
        "    page = requests.get(URL)\n",
        "    pagecontent = page.text\n",
        "    # storing html in soup \n",
        "    soup = BeautifulSoup(pagecontent)\n",
        "    # finding table and class name from HTML Page \n",
        "    right_table=soup.find('table', class_='tableList js-dataTooltip')\n",
        "    \n",
        "   \n",
        "    for row in right_table.findAll(\"tr\"):\n",
        "        name = row.find('span', attrs = {'itemprop':'name'})\n",
        "        author = row.find('a', attrs = {'class':'authorName'})\n",
        "        rating = row.find('span', attrs = {'class':'minirating'})\n",
        "\n",
        "        # Appending all the data into the list .\n",
        "        bookname.append(name.text)\n",
        "        authorname.append(author.text)\n",
        "        ratings.append(rating.text)\n",
        "        \n",
        "# Creating data frame\n",
        "books_df = pd.DataFrame({'BookName':bookname, 'authorname':authorname, 'ratings': ratings})\n",
        "\n",
        "\n"
      ]
    },
    {
      "cell_type": "code",
      "execution_count": null,
      "metadata": {
        "id": "NxtiL8cNZAhR",
        "outputId": "912cf115-bd0e-462b-8ca4-3423f505bf4c"
      },
      "outputs": [
        {
          "data": {
            "text/html": [
              "<div>\n",
              "<style scoped>\n",
              "    .dataframe tbody tr th:only-of-type {\n",
              "        vertical-align: middle;\n",
              "    }\n",
              "\n",
              "    .dataframe tbody tr th {\n",
              "        vertical-align: top;\n",
              "    }\n",
              "\n",
              "    .dataframe thead th {\n",
              "        text-align: right;\n",
              "    }\n",
              "</style>\n",
              "<table border=\"1\" class=\"dataframe\">\n",
              "  <thead>\n",
              "    <tr style=\"text-align: right;\">\n",
              "      <th></th>\n",
              "      <th>BookName</th>\n",
              "      <th>authorname</th>\n",
              "      <th>ratings</th>\n",
              "    </tr>\n",
              "  </thead>\n",
              "  <tbody>\n",
              "    <tr>\n",
              "      <th>0</th>\n",
              "      <td>The Diary of a Young Girl</td>\n",
              "      <td>Anne Frank</td>\n",
              "      <td>4.18 avg rating — 3,329,638 ratings</td>\n",
              "    </tr>\n",
              "    <tr>\n",
              "      <th>1</th>\n",
              "      <td>Why They Stay: Sex Scandals, Deals, and Hidden...</td>\n",
              "      <td>Anne Michaud</td>\n",
              "      <td>4.32 avg rating — 5,897 ratings</td>\n",
              "    </tr>\n",
              "    <tr>\n",
              "      <th>2</th>\n",
              "      <td>Guns, Germs, and Steel: The Fates of Human Soc...</td>\n",
              "      <td>Jared Diamond</td>\n",
              "      <td>4.04 avg rating — 368,845 ratings</td>\n",
              "    </tr>\n",
              "    <tr>\n",
              "      <th>3</th>\n",
              "      <td>A Brief History of Time</td>\n",
              "      <td>Stephen Hawking</td>\n",
              "      <td>4.20 avg rating — 385,026 ratings</td>\n",
              "    </tr>\n",
              "    <tr>\n",
              "      <th>4</th>\n",
              "      <td>Cosmos</td>\n",
              "      <td>Carl Sagan</td>\n",
              "      <td>4.38 avg rating — 135,302 ratings</td>\n",
              "    </tr>\n",
              "    <tr>\n",
              "      <th>...</th>\n",
              "      <td>...</td>\n",
              "      <td>...</td>\n",
              "      <td>...</td>\n",
              "    </tr>\n",
              "    <tr>\n",
              "      <th>995</th>\n",
              "      <td>2 Girls 1 Cup</td>\n",
              "      <td>Lin Xun</td>\n",
              "      <td>it was amazing 5.00 avg rating — 3 ratings</td>\n",
              "    </tr>\n",
              "    <tr>\n",
              "      <th>996</th>\n",
              "      <td>Mindful Voices of Europe: Spiritual journeys o...</td>\n",
              "      <td>Vincent Héry</td>\n",
              "      <td>it was amazing 5.00 avg rating — 9 ratings</td>\n",
              "    </tr>\n",
              "    <tr>\n",
              "      <th>997</th>\n",
              "      <td>Tracking Amelia Earhart: Her Flight Path to th...</td>\n",
              "      <td>William Pennington Snavely, Jr.</td>\n",
              "      <td>3.50 avg rating — 2 ratings</td>\n",
              "    </tr>\n",
              "    <tr>\n",
              "      <th>998</th>\n",
              "      <td>Upbeat: The Story of the National Youth Orches...</td>\n",
              "      <td>Paul MacAlindin</td>\n",
              "      <td>3.61 avg rating — 33 ratings</td>\n",
              "    </tr>\n",
              "    <tr>\n",
              "      <th>999</th>\n",
              "      <td>The New Wild West: Black Gold, Fracking, and L...</td>\n",
              "      <td>Blaire Briody</td>\n",
              "      <td>3.95 avg rating — 174 ratings</td>\n",
              "    </tr>\n",
              "  </tbody>\n",
              "</table>\n",
              "<p>1000 rows × 3 columns</p>\n",
              "</div>"
            ],
            "text/plain": [
              "                                              BookName  \\\n",
              "0                            The Diary of a Young Girl   \n",
              "1    Why They Stay: Sex Scandals, Deals, and Hidden...   \n",
              "2    Guns, Germs, and Steel: The Fates of Human Soc...   \n",
              "3                              A Brief History of Time   \n",
              "4                                               Cosmos   \n",
              "..                                                 ...   \n",
              "995                                      2 Girls 1 Cup   \n",
              "996  Mindful Voices of Europe: Spiritual journeys o...   \n",
              "997  Tracking Amelia Earhart: Her Flight Path to th...   \n",
              "998  Upbeat: The Story of the National Youth Orches...   \n",
              "999  The New Wild West: Black Gold, Fracking, and L...   \n",
              "\n",
              "                          authorname  \\\n",
              "0                         Anne Frank   \n",
              "1                       Anne Michaud   \n",
              "2                      Jared Diamond   \n",
              "3                    Stephen Hawking   \n",
              "4                         Carl Sagan   \n",
              "..                               ...   \n",
              "995                          Lin Xun   \n",
              "996                     Vincent Héry   \n",
              "997  William Pennington Snavely, Jr.   \n",
              "998                  Paul MacAlindin   \n",
              "999                    Blaire Briody   \n",
              "\n",
              "                                        ratings  \n",
              "0           4.18 avg rating — 3,329,638 ratings  \n",
              "1               4.32 avg rating — 5,897 ratings  \n",
              "2             4.04 avg rating — 368,845 ratings  \n",
              "3             4.20 avg rating — 385,026 ratings  \n",
              "4             4.38 avg rating — 135,302 ratings  \n",
              "..                                          ...  \n",
              "995  it was amazing 5.00 avg rating — 3 ratings  \n",
              "996  it was amazing 5.00 avg rating — 9 ratings  \n",
              "997                 3.50 avg rating — 2 ratings  \n",
              "998                3.61 avg rating — 33 ratings  \n",
              "999               3.95 avg rating — 174 ratings  \n",
              "\n",
              "[1000 rows x 3 columns]"
            ]
          },
          "execution_count": 4,
          "metadata": {},
          "output_type": "execute_result"
        }
      ],
      "source": [
        "#Printing 1000 books data \n",
        "books_df.iloc[0:1000,:]"
      ]
    },
    {
      "cell_type": "markdown",
      "metadata": {
        "id": "eP6354zoZAhS"
      },
      "source": [
        "Question 3 (10 points): Write python code to collect 1000 articles from Google Scholar (https://scholar.google.com/), Microsoft Academic (https://academic.microsoft.com/home), or CiteSeerX (https://citeseerx.ist.psu.edu/index), or Semantic Scholar (https://www.semanticscholar.org/), or ACM Digital Libraries (https://dl.acm.org/) with the keyword \"information retrieval\". The articles should be published in the last 10 years (2012-2022).\n",
        "\n",
        "The following information of the article needs to be collected:\n",
        "\n",
        "(1) Title\n",
        "\n",
        "(2) Venue/journal/conference being published\n",
        "\n",
        "(3) Year\n",
        "\n",
        "(4) Authors\n",
        "\n",
        "(5) Abstract"
      ]
    },
    {
      "cell_type": "code",
      "execution_count": null,
      "metadata": {
        "id": "0tjQlM8JZAhS"
      },
      "outputs": [],
      "source": [
        "title_=[]\n",
        "author_=[]\n",
        "year_=[]\n",
        "abstract_=[]\n",
        "for i in range(0,100):\n",
        "    url = \"https://dl.acm.org/action/doSearch?AllField=Information+Retrieval&expand=all&ConceptID=118230&startPage={}&pageSize=10\".format(i)\n",
        "    page = requests.get(url)\n",
        "    pagecontent = page.text\n",
        "    soup = BeautifulSoup(pagecontent, 'html.parser')\n",
        "    right_table=soup.find('ul', class_='search-result__xsl-body items-results rlist--inline')\n",
        "    for div in right_table.findAll(\"li\"):\n",
        "    \n",
        "        title = div.find(\"span\", class_=\"hlFld-Title\")\n",
        "        abstract = div.find(\"div\", class_=\"abstract-text\")\n",
        "        year = div.find(\"span\", class_=\"dot-seperator\")\n",
        "        author = div.find(\"ul\", class_=\"rlist--inline loa truncate-list trunc-done\")\n",
        "        title_.append(title)\n",
        "        author_.append(author)\n",
        "        year_.append(year)\n",
        "        abstract_.append(abstract)\n",
        "    \n",
        "books_df = pd.DataFrame({\"Title\":title, \"Author\":author, \"Abstract\":abstract, \"Year\":year})\n",
        "books_df"
      ]
    },
    {
      "cell_type": "markdown",
      "metadata": {
        "id": "_7wXxy6qZAhU"
      },
      "source": [
        "Question 4 (10 points): Write python code to collect 1000 posts from Twitter, or Facebook, or Instagram. You can either use hashtags, keywords, user_name, user_id, or other information to collect the data. \n",
        "\n",
        "The following information needs to be collected:\n",
        "\n",
        "(1) User_name\n",
        "\n",
        "(2) Posted time\n",
        "\n",
        "(3) Text "
      ]
    },
    {
      "cell_type": "code",
      "execution_count": null,
      "metadata": {
        "id": "-aBkpz6ZZAhU",
        "outputId": "c31b20f7-3120-455c-f5f9-3aecee2e3d02"
      },
      "outputs": [
        {
          "name": "stdout",
          "output_type": "stream",
          "text": [
            "{'Followers': '235M', 'Following': '261', 'Posts': '1,432'}\n"
          ]
        }
      ],
      "source": [
        "\n",
        "from bs4 import BeautifulSoup\n",
        "import requests\n",
        " \n",
        "# instagram URL\n",
        "URL = \"https://www.instagram.com/{}/\"\n",
        " \n",
        "def parse_data(s):\n",
        "    data = {}\n",
        "\n",
        "    s = s.split(\"-\")[0]\n",
        "     \n",
        "  \n",
        "    s = s.split(\" \")\n",
        "\n",
        "    data['Followers'] = s[0]\n",
        "    data['Following'] = s[2]\n",
        "    data['Posts'] = s[4]\n",
        "     \n",
        "\n",
        "    return data\n",
        " \n",
        "\n",
        "def scrape_data(username):\n",
        "\n",
        "    r = requests.get(URL.format(username))\n",
        "\n",
        "    s = BeautifulSoup(r.text, \"html.parser\")\n",
        "  \n",
        "    meta = s.find(\"meta\", property =\"og:description\")\n",
        "     \n",
        "    return parse_data(meta.attrs['content'])\n",
        " \n",
        "\n",
        "if __name__==\"__main__\":\n",
        "     \n",
        "    username = \"virat.kohli\"\n",
        "     \n",
        "\n",
        "    data = scrape_data(username)\n",
        "\n",
        "    print(data)"
      ]
    },
    {
      "cell_type": "code",
      "execution_count": null,
      "metadata": {
        "id": "ZeVYBQhpZAhV"
      },
      "outputs": [],
      "source": []
    }
  ],
  "metadata": {
    "kernelspec": {
      "display_name": "Python 3 (ipykernel)",
      "language": "python",
      "name": "python3"
    },
    "language_info": {
      "codemirror_mode": {
        "name": "ipython",
        "version": 3
      },
      "file_extension": ".py",
      "mimetype": "text/x-python",
      "name": "python",
      "nbconvert_exporter": "python",
      "pygments_lexer": "ipython3",
      "version": "3.9.7"
    },
    "colab": {
      "provenance": [],
      "include_colab_link": true
    }
  },
  "nbformat": 4,
  "nbformat_minor": 0
}