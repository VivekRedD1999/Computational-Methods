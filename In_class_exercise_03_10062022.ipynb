{
  "cells": [
    {
      "cell_type": "markdown",
      "metadata": {
        "id": "view-in-github",
        "colab_type": "text"
      },
      "source": [
        "<a href=\"https://colab.research.google.com/github/VivekRedD1999/Computational-Methods/blob/main/In_class_exercise_03_10062022.ipynb\" target=\"_parent\"><img src=\"https://colab.research.google.com/assets/colab-badge.svg\" alt=\"Open In Colab\"/></a>"
      ]
    },
    {
      "cell_type": "markdown",
      "metadata": {
        "id": "wL51NeJFskSH"
      },
      "source": [
        "## The third In-class-exercise (10/06/2022, 40 points in total)"
      ]
    },
    {
      "cell_type": "markdown",
      "metadata": {
        "id": "tfskIlvPskSK"
      },
      "source": [
        "The purpose of this exercise is to understand text representation."
      ]
    },
    {
      "cell_type": "markdown",
      "metadata": {
        "id": "o3Htde-HskSL"
      },
      "source": [
        "Question 1 (10 points): Describe an interesting text classification or text mining task and explain what kind of features might be useful for you to build the machine learning model. List your features and explain why these features might be helpful. You need to list at least five different types of features."
      ]
    },
    {
      "cell_type": "code",
      "execution_count": 1,
      "metadata": {
        "colab": {
          "base_uri": "https://localhost:8080/",
          "height": 122
        },
        "id": "Aj84HEpPskSL",
        "outputId": "c4607b9d-99d0-4299-9221-aaa03dd586df"
      },
      "outputs": [
        {
          "output_type": "execute_result",
          "data": {
            "text/plain": [
              "'\\nPlease write you answer here:\\nEmail is an effective, fast and reasonably cheap way to communicate, but it comes with a dark side: spam. Today, \\nspam is a major issue for internet service providers, increasing their costs for service management and hardware software updating. \\nFor users, spam is both an entry point for viruses and a detriment to productivity. \\nText mining techniques can be implemented to improve the effectiveness of statistical filtering methods by leveraging established prior knowledge. \\nThis not only makes for more efficient email management, but it improves the user experience considerably.\\n\\nfor this task, the important features are \\n1) Smam text either by email or sms text\\n2) spam mailid tags\\n3) Spam output as target variable \\n4) class of the text \\n5) subject of the mail\\n\\n\\n\\n\\n\\n'"
            ],
            "application/vnd.google.colaboratory.intrinsic+json": {
              "type": "string"
            }
          },
          "metadata": {},
          "execution_count": 1
        }
      ],
      "source": [
        "# Your answer here (no code for this question, write down your answer as detail as possible for the above questions):\n",
        "\n",
        "'''\n",
        "Please write you answer here:\n",
        "For a online book service for better sales of their books which author's and what genere books are highly rated in good reads.com for better reccomendation and targeted\n",
        "discounts on books. we need to collect books authors name, book name, book title, average rating, total rating.\n",
        "we need to scrape almost all the books data present in the goodreads.com for the analysis. with this data by doing analysis\n",
        "we'll get to know the most popular authors, popular books. by applying machine learning techniques, Also collecting customer data\n",
        "they can recomend books to the customers based on similar intrests and organisation can also provide targeted discounts on some \n",
        "books\n",
        "\n",
        "for this task, the important features are \n",
        "1) Book Name\n",
        "2) Author Name\n",
        "3) Ratings\n",
        "4) Length of words\n",
        "5) Published date\n",
        "\n",
        "\n",
        "\n",
        "\n",
        "\n",
        "'''"
      ]
    },
    {
      "cell_type": "markdown",
      "metadata": {
        "id": "jJl7EIqPskSN"
      },
      "source": [
        "Question 2 (20 points): Write python code to extract these features you discussed above. You can collect a few sample text data for the feature extraction. "
      ]
    },
    {
      "cell_type": "code",
      "execution_count": 1,
      "metadata": {
        "id": "UH_txqpDskSN"
      },
      "outputs": [],
      "source": [
        "# You code here (Please add comments in the code):\n",
        "\n",
        "import pandas as pd\n",
        "import numpy as np\n",
        "import requests\n",
        "from bs4 import BeautifulSoup\n",
        "import re\n",
        "import time\n",
        "\n",
        "bookname = []\n",
        "authorname = []\n",
        "ratings = []\n",
        "\n",
        "for i in range(1,29): # covering total 28 pages.\n",
        "    start_time = time.time()\n",
        "    #URL to scrape the data from good reads website\n",
        "    URL = 'https://www.goodreads.com/list/show/10048.Non_fiction_Something_for_Everyone?page={}'.format(i)\n",
        "    page = requests.get(URL)\n",
        "    pagecontent = page.text\n",
        "    # storing html in soup \n",
        "    soup = BeautifulSoup(pagecontent)\n",
        "    # finding table and class name from HTML Page \n",
        "    right_table=soup.find('table', class_='tableList js-dataTooltip')\n",
        "    \n",
        "   \n",
        "    for row in right_table.findAll(\"tr\"):\n",
        "        name = row.find('span', attrs = {'itemprop':'name'})\n",
        "        author = row.find('a', attrs = {'class':'authorName'})\n",
        "        rating = row.find('span', attrs = {'class':'minirating'})\n",
        "\n",
        "        # Appending all the data into the list .\n",
        "        bookname.append(name.text)\n",
        "        authorname.append(author.text)\n",
        "        ratings.append(rating.text)\n",
        "        \n",
        "# Creating data frame\n",
        "books_df = pd.DataFrame({'BookName':bookname, 'authorname':authorname, 'ratings': ratings})"
      ]
    },
    {
      "cell_type": "code",
      "source": [
        "books_df.head()"
      ],
      "metadata": {
        "colab": {
          "base_uri": "https://localhost:8080/",
          "height": 206
        },
        "id": "ATDaUWflpDR9",
        "outputId": "0b3979af-5d0f-4064-9de2-c319ab90c4a3"
      },
      "execution_count": 2,
      "outputs": [
        {
          "output_type": "execute_result",
          "data": {
            "text/plain": [
              "                                            BookName        authorname  \\\n",
              "0                          The Diary of a Young Girl        Anne Frank   \n",
              "1  Why They Stay: Sex Scandals, Deals, and Hidden...      Anne Michaud   \n",
              "2  Guns, Germs, and Steel: The Fates of Human Soc...     Jared Diamond   \n",
              "3                            A Brief History of Time   Stephen Hawking   \n",
              "4  The Perfect Storm: A True Story of Men Against...  Sebastian Junger   \n",
              "\n",
              "                                ratings  \n",
              "0   4.18 avg rating — 3,338,842 ratings  \n",
              "1       4.32 avg rating — 5,419 ratings  \n",
              "2     4.04 avg rating — 369,577 ratings  \n",
              "3     4.20 avg rating — 386,126 ratings  \n",
              "4     4.10 avg rating — 110,087 ratings  "
            ],
            "text/html": [
              "\n",
              "  <div id=\"df-22bb08bd-8a09-4629-8436-8eee3abb348d\">\n",
              "    <div class=\"colab-df-container\">\n",
              "      <div>\n",
              "<style scoped>\n",
              "    .dataframe tbody tr th:only-of-type {\n",
              "        vertical-align: middle;\n",
              "    }\n",
              "\n",
              "    .dataframe tbody tr th {\n",
              "        vertical-align: top;\n",
              "    }\n",
              "\n",
              "    .dataframe thead th {\n",
              "        text-align: right;\n",
              "    }\n",
              "</style>\n",
              "<table border=\"1\" class=\"dataframe\">\n",
              "  <thead>\n",
              "    <tr style=\"text-align: right;\">\n",
              "      <th></th>\n",
              "      <th>BookName</th>\n",
              "      <th>authorname</th>\n",
              "      <th>ratings</th>\n",
              "    </tr>\n",
              "  </thead>\n",
              "  <tbody>\n",
              "    <tr>\n",
              "      <th>0</th>\n",
              "      <td>The Diary of a Young Girl</td>\n",
              "      <td>Anne Frank</td>\n",
              "      <td>4.18 avg rating — 3,338,842 ratings</td>\n",
              "    </tr>\n",
              "    <tr>\n",
              "      <th>1</th>\n",
              "      <td>Why They Stay: Sex Scandals, Deals, and Hidden...</td>\n",
              "      <td>Anne Michaud</td>\n",
              "      <td>4.32 avg rating — 5,419 ratings</td>\n",
              "    </tr>\n",
              "    <tr>\n",
              "      <th>2</th>\n",
              "      <td>Guns, Germs, and Steel: The Fates of Human Soc...</td>\n",
              "      <td>Jared Diamond</td>\n",
              "      <td>4.04 avg rating — 369,577 ratings</td>\n",
              "    </tr>\n",
              "    <tr>\n",
              "      <th>3</th>\n",
              "      <td>A Brief History of Time</td>\n",
              "      <td>Stephen Hawking</td>\n",
              "      <td>4.20 avg rating — 386,126 ratings</td>\n",
              "    </tr>\n",
              "    <tr>\n",
              "      <th>4</th>\n",
              "      <td>The Perfect Storm: A True Story of Men Against...</td>\n",
              "      <td>Sebastian Junger</td>\n",
              "      <td>4.10 avg rating — 110,087 ratings</td>\n",
              "    </tr>\n",
              "  </tbody>\n",
              "</table>\n",
              "</div>\n",
              "      <button class=\"colab-df-convert\" onclick=\"convertToInteractive('df-22bb08bd-8a09-4629-8436-8eee3abb348d')\"\n",
              "              title=\"Convert this dataframe to an interactive table.\"\n",
              "              style=\"display:none;\">\n",
              "        \n",
              "  <svg xmlns=\"http://www.w3.org/2000/svg\" height=\"24px\"viewBox=\"0 0 24 24\"\n",
              "       width=\"24px\">\n",
              "    <path d=\"M0 0h24v24H0V0z\" fill=\"none\"/>\n",
              "    <path d=\"M18.56 5.44l.94 2.06.94-2.06 2.06-.94-2.06-.94-.94-2.06-.94 2.06-2.06.94zm-11 1L8.5 8.5l.94-2.06 2.06-.94-2.06-.94L8.5 2.5l-.94 2.06-2.06.94zm10 10l.94 2.06.94-2.06 2.06-.94-2.06-.94-.94-2.06-.94 2.06-2.06.94z\"/><path d=\"M17.41 7.96l-1.37-1.37c-.4-.4-.92-.59-1.43-.59-.52 0-1.04.2-1.43.59L10.3 9.45l-7.72 7.72c-.78.78-.78 2.05 0 2.83L4 21.41c.39.39.9.59 1.41.59.51 0 1.02-.2 1.41-.59l7.78-7.78 2.81-2.81c.8-.78.8-2.07 0-2.86zM5.41 20L4 18.59l7.72-7.72 1.47 1.35L5.41 20z\"/>\n",
              "  </svg>\n",
              "      </button>\n",
              "      \n",
              "  <style>\n",
              "    .colab-df-container {\n",
              "      display:flex;\n",
              "      flex-wrap:wrap;\n",
              "      gap: 12px;\n",
              "    }\n",
              "\n",
              "    .colab-df-convert {\n",
              "      background-color: #E8F0FE;\n",
              "      border: none;\n",
              "      border-radius: 50%;\n",
              "      cursor: pointer;\n",
              "      display: none;\n",
              "      fill: #1967D2;\n",
              "      height: 32px;\n",
              "      padding: 0 0 0 0;\n",
              "      width: 32px;\n",
              "    }\n",
              "\n",
              "    .colab-df-convert:hover {\n",
              "      background-color: #E2EBFA;\n",
              "      box-shadow: 0px 1px 2px rgba(60, 64, 67, 0.3), 0px 1px 3px 1px rgba(60, 64, 67, 0.15);\n",
              "      fill: #174EA6;\n",
              "    }\n",
              "\n",
              "    [theme=dark] .colab-df-convert {\n",
              "      background-color: #3B4455;\n",
              "      fill: #D2E3FC;\n",
              "    }\n",
              "\n",
              "    [theme=dark] .colab-df-convert:hover {\n",
              "      background-color: #434B5C;\n",
              "      box-shadow: 0px 1px 3px 1px rgba(0, 0, 0, 0.15);\n",
              "      filter: drop-shadow(0px 1px 2px rgba(0, 0, 0, 0.3));\n",
              "      fill: #FFFFFF;\n",
              "    }\n",
              "  </style>\n",
              "\n",
              "      <script>\n",
              "        const buttonEl =\n",
              "          document.querySelector('#df-22bb08bd-8a09-4629-8436-8eee3abb348d button.colab-df-convert');\n",
              "        buttonEl.style.display =\n",
              "          google.colab.kernel.accessAllowed ? 'block' : 'none';\n",
              "\n",
              "        async function convertToInteractive(key) {\n",
              "          const element = document.querySelector('#df-22bb08bd-8a09-4629-8436-8eee3abb348d');\n",
              "          const dataTable =\n",
              "            await google.colab.kernel.invokeFunction('convertToInteractive',\n",
              "                                                     [key], {});\n",
              "          if (!dataTable) return;\n",
              "\n",
              "          const docLinkHtml = 'Like what you see? Visit the ' +\n",
              "            '<a target=\"_blank\" href=https://colab.research.google.com/notebooks/data_table.ipynb>data table notebook</a>'\n",
              "            + ' to learn more about interactive tables.';\n",
              "          element.innerHTML = '';\n",
              "          dataTable['output_type'] = 'display_data';\n",
              "          await google.colab.output.renderOutput(dataTable, element);\n",
              "          const docLink = document.createElement('div');\n",
              "          docLink.innerHTML = docLinkHtml;\n",
              "          element.appendChild(docLink);\n",
              "        }\n",
              "      </script>\n",
              "    </div>\n",
              "  </div>\n",
              "  "
            ]
          },
          "metadata": {},
          "execution_count": 2
        }
      ]
    },
    {
      "cell_type": "markdown",
      "metadata": {
        "id": "7W9kU3XYskSO"
      },
      "source": [
        "Question 3 (10 points): Use any of the feature selection methods mentioned in this paper \"Deng, X., Li, Y., Weng, J., & Zhang, J. (2019). Feature selection for text classification: A review. Multimedia Tools & Applications, 78(3).\" Select the most important features you extracted above, rank the features based on their importance in the descending order. "
      ]
    },
    {
      "cell_type": "code",
      "execution_count": null,
      "metadata": {
        "id": "kx5AyTxdskSP"
      },
      "outputs": [],
      "source": [
        "# You code here (Please add comments in the code):\n",
        "\n",
        "\n",
        "\n"
      ]
    }
  ],
  "metadata": {
    "kernelspec": {
      "display_name": "Python 3 (ipykernel)",
      "language": "python",
      "name": "python3"
    },
    "language_info": {
      "codemirror_mode": {
        "name": "ipython",
        "version": 3
      },
      "file_extension": ".py",
      "mimetype": "text/x-python",
      "name": "python",
      "nbconvert_exporter": "python",
      "pygments_lexer": "ipython3",
      "version": "3.9.12"
    },
    "colab": {
      "provenance": [],
      "collapsed_sections": [],
      "include_colab_link": true
    }
  },
  "nbformat": 4,
  "nbformat_minor": 0
}