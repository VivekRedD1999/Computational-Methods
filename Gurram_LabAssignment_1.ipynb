{
  "cells": [
    {
      "cell_type": "markdown",
      "metadata": {
        "id": "view-in-github",
        "colab_type": "text"
      },
      "source": [
        "<a href=\"https://colab.research.google.com/github/VivekRedD1999/Computational-Methods/blob/main/Gurram_LabAssignment_1.ipynb\" target=\"_parent\"><img src=\"https://colab.research.google.com/assets/colab-badge.svg\" alt=\"Open In Colab\"/></a>"
      ]
    },
    {
      "cell_type": "markdown",
      "metadata": {
        "id": "Ryk8D1Q4Wsrp"
      },
      "source": [
        "# **INFO5731 Assignment One**"
      ]
    },
    {
      "cell_type": "markdown",
      "metadata": {
        "id": "90_NR8c5XGWc"
      },
      "source": [
        "# Question 1\n",
        "\n",
        "(20 points). Write a Python program to generate 12 random numbers between 1 and 100. Sort the list of numbers in ascending order and print it out. Sort the list of numbers in descending order and print it out. Calculate the average for the group and print it out."
      ]
    },
    {
      "cell_type": "code",
      "execution_count": null,
      "metadata": {
        "id": "5QX6bJjGWXY9",
        "outputId": "973c1811-a970-4ffa-abed-fd85f1924c5c"
      },
      "outputs": [
        {
          "name": "stdout",
          "output_type": "stream",
          "text": [
            "Ascending Order: [2, 14, 18, 21, 24, 25, 29, 50, 57, 71, 81, 91]\n",
            "Descending Order: [91, 81, 71, 57, 50, 29, 25, 24, 21, 18, 14, 2]\n"
          ]
        }
      ],
      "source": [
        "# Your code here\n",
        "import numpy as np\n",
        "import random\n",
        "num=[]\n",
        "for i in range(12):\n",
        "    num.append(random.randint(1,100))\n",
        "print(\"Ascending Order:\",sorted(num))\n",
        "print(\"Descending Order:\",sorted(num,reverse=True))"
      ]
    },
    {
      "cell_type": "markdown",
      "metadata": {
        "id": "1F_PZdH9Sh49"
      },
      "source": [
        "# Question 2\n",
        "(25 points). Write a program that will do the following string formatting tasks:\n",
        "\n",
        "(1) Ask the user to enter two sentences.\n",
        "\n",
        "(2) Make each sentence into a list. Each element in the list should correspond to a word in the sentence. For example, if the sentence is \"Alas! Am I alive? This is my first python program\", the program should print out ['Alas, '!', 'Am', 'I', 'alive, '?', 'This', 'is', 'my', 'first', 'python', 'program'].\n",
        "\n",
        "(3) Compare the two sentences. Print out a list of words that occur in both sentences.\n",
        "\n",
        "(4) Remove any punctuation from the sentence and print it back out. It should remove at least the following characters, but it can remove more: period(“.”), comma (“,”), semicolon (“;”), and colon (“:”)\n",
        "\n",
        "(5) Count the number of vowels in the sentences. Print out each vowel and the number of times it appears in the sentences, such as: a:2, e:1, i:0, etc"
      ]
    },
    {
      "cell_type": "code",
      "execution_count": 1,
      "metadata": {
        "colab": {
          "base_uri": "https://localhost:8080/"
        },
        "id": "Y0oOSlsOS0cq",
        "outputId": "3883d3a4-02dd-4c6b-e14d-91ecd870b79a"
      },
      "outputs": [
        {
          "output_type": "stream",
          "name": "stdout",
          "text": [
            "Sentence 1:  A sentence is the basic unit of language which expresses a complete thought\n",
            "Sentence 2:  A complete sentence has at least a subject and a main verb to state \n",
            "Common Words in Sentence:  ['A', 'sentence', 'a', 'complete']\n",
            "---------------------------------------------------------\n",
            "Common Words Vowels:  {'a': 2, 'e': 5, 'i': 0, 'o': 1, 'u': 0}\n",
            "---------------------------------------------------------\n",
            "Vowels in Sentence 1:  {'a': 5, 'e': 10, 'i': 4, 'o': 3, 'u': 3}\n",
            "---------------------------------------------------------\n",
            "Vowels in Sentence 2:  {'a': 9, 'e': 9, 'i': 1, 'o': 2, 'u': 1}\n"
          ]
        }
      ],
      "source": [
        "# Your code here\n",
        "def Punctuation(sentence):\n",
        "    punctuation = [\"?\", \".\",\",\",\":\",\"!\",\"(\",\")\",\"[\",\"]\",\"-\",\"_\"]\n",
        "    lis = []\n",
        "    for word in sentence:\n",
        "        for j in word:\n",
        "            if j in punctuation:\n",
        "                lis.append(word.replace(j,\"\"))\n",
        "                break\n",
        "        else:\n",
        "            lis.append(word)   \n",
        "    return lis\n",
        "\n",
        "\n",
        "def common_words(sentence1, sentence2):\n",
        "    op=[]\n",
        "    for i in sentence1:\n",
        "        if i in sentence2 and i not in op:\n",
        "            op.append(i)\n",
        "    return op\n",
        "            \n",
        "\n",
        "def vowel_count(words):\n",
        "    vowel={\"a\":0, \"e\":0, \"i\":0, \"o\":0, \"u\":0}\n",
        "    for i in words:\n",
        "        for j in i:\n",
        "            l = j.lower()\n",
        "            if l in vowel.keys():\n",
        "                vowel[l]+=1\n",
        "            else:\n",
        "                continue\n",
        "    return vowel\n",
        "    \n",
        "sentence1 = Punctuation(input(\"Sentence 1:  \").split())\n",
        "sentence2 = Punctuation(input(\"Sentence 2:  \").split())\n",
        "words = common_words(sentence1,sentence2)\n",
        "print(\"Common Words in Sentence: \",words)\n",
        "print(\"---------------------------------------------------------\")\n",
        "print(\"Common Words Vowels: \", vowel_count(words))\n",
        "print(\"---------------------------------------------------------\")\n",
        "print(\"Vowels in Sentence 1: \",vowel_count(sentence1))\n",
        "print(\"---------------------------------------------------------\")\n",
        "print(\"Vowels in Sentence 2: \",vowel_count(sentence2))\n",
        "\n"
      ]
    },
    {
      "cell_type": "markdown",
      "metadata": {
        "id": "CmFoI4jDS9nx"
      },
      "source": [
        "# Question 3 \n",
        "\n",
        "(15 points). The formula that describes the volume V of a sphere with radius r is the following:\n",
        "\n",
        "$ V=\\frac{4}{3}\\ast\\ \\pi\\ast\\ r^3 $\n",
        "\n",
        "Write a program to calculate the value of V when r is in the range of 1–10. Output the result in the following format:\n",
        "\n",
        "\tr\tV\n",
        "\t1\t…\n",
        "\t2\t…\n",
        "\t3\t…\n"
      ]
    },
    {
      "cell_type": "code",
      "execution_count": 2,
      "metadata": {
        "colab": {
          "base_uri": "https://localhost:8080/"
        },
        "id": "pEyqeioAT95b",
        "outputId": "4093aced-311f-4784-ee80-41ccf765e249"
      },
      "outputs": [
        {
          "output_type": "stream",
          "name": "stdout",
          "text": [
            "r \t V\n",
            "1 \t 4.1887902047863905\n",
            "2 \t 33.510321638291124\n",
            "3 \t 113.09733552923254\n",
            "4 \t 268.082573106329\n",
            "5 \t 523.5987755982987\n",
            "6 \t 904.7786842338603\n",
            "7 \t 1436.755040241732\n",
            "8 \t 2144.660584850632\n",
            "9 \t 3053.6280592892786\n",
            "10 \t 4188.79020478639\n"
          ]
        }
      ],
      "source": [
        "# Your code here\n",
        "import math\n",
        "print(\"r\",\"\\t\",\"V\", end=\"\\n\")\n",
        "for r in range(1,11):\n",
        "    v = 4/3 *(math.pi * r**3)\n",
        "    print(r,\"\\t\", v, end=\"\\n\")\n"
      ]
    },
    {
      "cell_type": "markdown",
      "metadata": {
        "id": "z3tBE7E-Xn5X"
      },
      "source": [
        "# Question 4\n",
        "\n",
        "(40 points). In the field of Data Science, data is often formatted as a comma-delimited (CSV) file, where each line in a file corresponds to a field's value. Refer to Chapter 9 (p. 106) for more information on comma-delimited files. To answer this question, you will need to download the file [Assignment1_denton_housing.csv](https://raw.githubusercontent.com/unt-iialab/info5731-spring2022/main/assignments/Assignment1_denton_housing.csv) included with this assignment. The file [Assignment1_denton_housing.csv](https://raw.githubusercontent.com/unt-iialab/info5731-spring2022/main/assignments/Assignment1_denton_housing.csv) contains statistics about housing in the city of Denton from 2008 to 2014. Write a program to implement the following questions.\n",
        "\n",
        "(1) (10 pts) Calculate the difference in the number of Occupied Housing Units from year to year and print it. The difference must be calculated for the consecutive years such as 2008-2009, 2009-2010 etc. Finally, print the values in the ascending order.\n",
        "\n",
        "(2) (10 pts) For all the years, calculate the percentage of housing units which are vacant an occupied. Print the results in the following format:\n",
        "\n",
        "Year Vacant Housing Units Occupied Housing Units\n",
        "\n",
        "    2008  30%   70%                          \n",
        "\t2009 ----- -----\n",
        "\t2010 ----- -----\n",
        "    2011 ----- -----\n",
        "\t2012 ----- -----\n",
        "    2013 ----- -----\n",
        "\t2014 ----- -----\n",
        "  \n",
        "  \n",
        "\n",
        "(3) (10 pts) Calculate and print the valued and years in which the highest number of housing units were vacant and occupied. Print the results in the following format:  \n",
        "\n",
        "                              Year\tValue\n",
        "\tVacant Housing Units\t  -----   -----\n",
        "\tOccupied Housing Units\t-----   -----\n",
        "\n",
        "(4) (10 pts) Calculate the harmonic mean of the total housing units and print it out. You can find the information about harmonic mean here: https://ncalculators.com/statistics/harmonic-mean-calculator.htm"
      ]
    },
    {
      "cell_type": "markdown",
      "metadata": {
        "id": "sCVjsVmwXo9G"
      },
      "source": [
        "(1) (10 pts) Calculate the difference in the number of Occupied Housing Units from year to year and print it. The difference must be calculated for the consecutive years such as 2008-2009, 2009-2010 etc. Finally, print the values in the ascending order."
      ]
    },
    {
      "cell_type": "code",
      "source": [
        "from google.colab import files\n",
        "upload = files.upload()"
      ],
      "metadata": {
        "colab": {
          "base_uri": "https://localhost:8080/",
          "height": 73
        },
        "id": "ghdldRimYm9G",
        "outputId": "9918431a-e4c6-4789-a9e2-92e3f778fbd1"
      },
      "execution_count": 4,
      "outputs": [
        {
          "output_type": "display_data",
          "data": {
            "text/plain": [
              "<IPython.core.display.HTML object>"
            ],
            "text/html": [
              "\n",
              "     <input type=\"file\" id=\"files-95d9eda3-5922-4924-ad83-351d4d8c9792\" name=\"files[]\" multiple disabled\n",
              "        style=\"border:none\" />\n",
              "     <output id=\"result-95d9eda3-5922-4924-ad83-351d4d8c9792\">\n",
              "      Upload widget is only available when the cell has been executed in the\n",
              "      current browser session. Please rerun this cell to enable.\n",
              "      </output>\n",
              "      <script>// Copyright 2017 Google LLC\n",
              "//\n",
              "// Licensed under the Apache License, Version 2.0 (the \"License\");\n",
              "// you may not use this file except in compliance with the License.\n",
              "// You may obtain a copy of the License at\n",
              "//\n",
              "//      http://www.apache.org/licenses/LICENSE-2.0\n",
              "//\n",
              "// Unless required by applicable law or agreed to in writing, software\n",
              "// distributed under the License is distributed on an \"AS IS\" BASIS,\n",
              "// WITHOUT WARRANTIES OR CONDITIONS OF ANY KIND, either express or implied.\n",
              "// See the License for the specific language governing permissions and\n",
              "// limitations under the License.\n",
              "\n",
              "/**\n",
              " * @fileoverview Helpers for google.colab Python module.\n",
              " */\n",
              "(function(scope) {\n",
              "function span(text, styleAttributes = {}) {\n",
              "  const element = document.createElement('span');\n",
              "  element.textContent = text;\n",
              "  for (const key of Object.keys(styleAttributes)) {\n",
              "    element.style[key] = styleAttributes[key];\n",
              "  }\n",
              "  return element;\n",
              "}\n",
              "\n",
              "// Max number of bytes which will be uploaded at a time.\n",
              "const MAX_PAYLOAD_SIZE = 100 * 1024;\n",
              "\n",
              "function _uploadFiles(inputId, outputId) {\n",
              "  const steps = uploadFilesStep(inputId, outputId);\n",
              "  const outputElement = document.getElementById(outputId);\n",
              "  // Cache steps on the outputElement to make it available for the next call\n",
              "  // to uploadFilesContinue from Python.\n",
              "  outputElement.steps = steps;\n",
              "\n",
              "  return _uploadFilesContinue(outputId);\n",
              "}\n",
              "\n",
              "// This is roughly an async generator (not supported in the browser yet),\n",
              "// where there are multiple asynchronous steps and the Python side is going\n",
              "// to poll for completion of each step.\n",
              "// This uses a Promise to block the python side on completion of each step,\n",
              "// then passes the result of the previous step as the input to the next step.\n",
              "function _uploadFilesContinue(outputId) {\n",
              "  const outputElement = document.getElementById(outputId);\n",
              "  const steps = outputElement.steps;\n",
              "\n",
              "  const next = steps.next(outputElement.lastPromiseValue);\n",
              "  return Promise.resolve(next.value.promise).then((value) => {\n",
              "    // Cache the last promise value to make it available to the next\n",
              "    // step of the generator.\n",
              "    outputElement.lastPromiseValue = value;\n",
              "    return next.value.response;\n",
              "  });\n",
              "}\n",
              "\n",
              "/**\n",
              " * Generator function which is called between each async step of the upload\n",
              " * process.\n",
              " * @param {string} inputId Element ID of the input file picker element.\n",
              " * @param {string} outputId Element ID of the output display.\n",
              " * @return {!Iterable<!Object>} Iterable of next steps.\n",
              " */\n",
              "function* uploadFilesStep(inputId, outputId) {\n",
              "  const inputElement = document.getElementById(inputId);\n",
              "  inputElement.disabled = false;\n",
              "\n",
              "  const outputElement = document.getElementById(outputId);\n",
              "  outputElement.innerHTML = '';\n",
              "\n",
              "  const pickedPromise = new Promise((resolve) => {\n",
              "    inputElement.addEventListener('change', (e) => {\n",
              "      resolve(e.target.files);\n",
              "    });\n",
              "  });\n",
              "\n",
              "  const cancel = document.createElement('button');\n",
              "  inputElement.parentElement.appendChild(cancel);\n",
              "  cancel.textContent = 'Cancel upload';\n",
              "  const cancelPromise = new Promise((resolve) => {\n",
              "    cancel.onclick = () => {\n",
              "      resolve(null);\n",
              "    };\n",
              "  });\n",
              "\n",
              "  // Wait for the user to pick the files.\n",
              "  const files = yield {\n",
              "    promise: Promise.race([pickedPromise, cancelPromise]),\n",
              "    response: {\n",
              "      action: 'starting',\n",
              "    }\n",
              "  };\n",
              "\n",
              "  cancel.remove();\n",
              "\n",
              "  // Disable the input element since further picks are not allowed.\n",
              "  inputElement.disabled = true;\n",
              "\n",
              "  if (!files) {\n",
              "    return {\n",
              "      response: {\n",
              "        action: 'complete',\n",
              "      }\n",
              "    };\n",
              "  }\n",
              "\n",
              "  for (const file of files) {\n",
              "    const li = document.createElement('li');\n",
              "    li.append(span(file.name, {fontWeight: 'bold'}));\n",
              "    li.append(span(\n",
              "        `(${file.type || 'n/a'}) - ${file.size} bytes, ` +\n",
              "        `last modified: ${\n",
              "            file.lastModifiedDate ? file.lastModifiedDate.toLocaleDateString() :\n",
              "                                    'n/a'} - `));\n",
              "    const percent = span('0% done');\n",
              "    li.appendChild(percent);\n",
              "\n",
              "    outputElement.appendChild(li);\n",
              "\n",
              "    const fileDataPromise = new Promise((resolve) => {\n",
              "      const reader = new FileReader();\n",
              "      reader.onload = (e) => {\n",
              "        resolve(e.target.result);\n",
              "      };\n",
              "      reader.readAsArrayBuffer(file);\n",
              "    });\n",
              "    // Wait for the data to be ready.\n",
              "    let fileData = yield {\n",
              "      promise: fileDataPromise,\n",
              "      response: {\n",
              "        action: 'continue',\n",
              "      }\n",
              "    };\n",
              "\n",
              "    // Use a chunked sending to avoid message size limits. See b/62115660.\n",
              "    let position = 0;\n",
              "    do {\n",
              "      const length = Math.min(fileData.byteLength - position, MAX_PAYLOAD_SIZE);\n",
              "      const chunk = new Uint8Array(fileData, position, length);\n",
              "      position += length;\n",
              "\n",
              "      const base64 = btoa(String.fromCharCode.apply(null, chunk));\n",
              "      yield {\n",
              "        response: {\n",
              "          action: 'append',\n",
              "          file: file.name,\n",
              "          data: base64,\n",
              "        },\n",
              "      };\n",
              "\n",
              "      let percentDone = fileData.byteLength === 0 ?\n",
              "          100 :\n",
              "          Math.round((position / fileData.byteLength) * 100);\n",
              "      percent.textContent = `${percentDone}% done`;\n",
              "\n",
              "    } while (position < fileData.byteLength);\n",
              "  }\n",
              "\n",
              "  // All done.\n",
              "  yield {\n",
              "    response: {\n",
              "      action: 'complete',\n",
              "    }\n",
              "  };\n",
              "}\n",
              "\n",
              "scope.google = scope.google || {};\n",
              "scope.google.colab = scope.google.colab || {};\n",
              "scope.google.colab._files = {\n",
              "  _uploadFiles,\n",
              "  _uploadFilesContinue,\n",
              "};\n",
              "})(self);\n",
              "</script> "
            ]
          },
          "metadata": {}
        },
        {
          "output_type": "stream",
          "name": "stdout",
          "text": [
            "Saving Assignment1_denton_housing.csv to Assignment1_denton_housing.csv\n"
          ]
        }
      ]
    },
    {
      "cell_type": "code",
      "execution_count": 5,
      "metadata": {
        "id": "lqGYuHBhcsRH"
      },
      "outputs": [],
      "source": [
        "# Your code here\n",
        "import pandas as pd \n",
        "import numpy as np\n",
        "\n",
        "data = pd.read_csv(\"Assignment1_denton_housing.csv\")"
      ]
    },
    {
      "cell_type": "code",
      "execution_count": 6,
      "metadata": {
        "id": "sB1LiN-vXo9H"
      },
      "outputs": [],
      "source": [
        "ind = sorted(np.where(data[\"title_field\"]==\"Occupied Housing Units\")[0], reverse = True)"
      ]
    },
    {
      "cell_type": "code",
      "execution_count": 18,
      "metadata": {
        "id": "ci_FJbNEXo9I"
      },
      "outputs": [],
      "source": [
        "def difference_in_year(ind, data):\n",
        "\n",
        "  lis = []\n",
        "  for i in range(0,len(ind)-1):\n",
        "    print(\"Difference in {} and {} is: \".format(data[\"year\"][ind[i]], data[\"year\"][ind[i+1]]), data[\"value\"][i] - data[\"value\"][i+1])\n",
        "    lis.append(data[\"value\"][i] - data[\"value\"][i+1])\n",
        "  return lis"
      ]
    },
    {
      "cell_type": "code",
      "execution_count": 21,
      "metadata": {
        "colab": {
          "base_uri": "https://localhost:8080/"
        },
        "id": "VfiaSEl9Xo9I",
        "outputId": "9f1a5f20-eb83-48cc-caea-2b66d62ad545"
      },
      "outputs": [
        {
          "output_type": "stream",
          "name": "stdout",
          "text": [
            "Difference in 2008 and 2009 is:  46295\n",
            "Difference in 2009 and 2010 is:  -43481\n",
            "Difference in 2010 and 2011 is:  -1593\n",
            "Difference in 2011 and 2012 is:  43673\n",
            "Difference in 2012 and 2013 is:  -39458\n",
            "Difference in 2013 and 2014 is:  -1448\n",
            "-----------------------------------------\n",
            "Result in Ascending Order:  [-43481, -39458, -1593, -1448, 43673, 46295]\n"
          ]
        }
      ],
      "source": [
        "res = difference_in_year(ind,data)\n",
        "print(\"-----------------------------------------\")\n",
        "print(\"Result in Ascending Order: \", sorted(res))"
      ]
    },
    {
      "cell_type": "markdown",
      "metadata": {
        "id": "fuC5gX_BXo9J"
      },
      "source": [
        "(2) (10 pts) For all the years, calculate the percentage of housing units which are vacant an occupied. Print the results in the following format:"
      ]
    },
    {
      "cell_type": "code",
      "execution_count": 22,
      "metadata": {
        "colab": {
          "base_uri": "https://localhost:8080/"
        },
        "id": "ck5cWxMmXo9J",
        "outputId": "f1e285af-c975-4c68-ffc8-af70d73146e1"
      },
      "outputs": [
        {
          "output_type": "stream",
          "name": "stdout",
          "text": [
            "Year   Vacant    Occupied\n",
            "2008   10.88 % \t 89.12 %\n",
            "2009   9.07 % \t 90.93 %\n",
            "2010   8.14 % \t 91.86 %\n",
            "2011   9.38 % \t 90.62 %\n",
            "2012   6.68 % \t 93.32 %\n",
            "2013   8.8 % \t 91.2 %\n",
            "2014   5.73 % \t 94.27 %\n"
          ]
        }
      ],
      "source": [
        "def calculate_percentage(*values):\n",
        "    vac = values[0][1]/values[0][0]\n",
        "    occ = values[0][2]/values[0][0]\n",
        "    return vac*100, occ*100\n",
        "\n",
        "def find_value(year, data):\n",
        "    total = data.loc[np.logical_and(data[\"year\"]==year, data[\"title_field\"]==\"Total Housing Units\")].values\n",
        "    vacant = data.loc[np.logical_and(data[\"year\"]==year, data[\"title_field\"]==\"Vacant Housing Units\")].values\n",
        "    occupied = data.loc[np.logical_and(data[\"year\"]==year, data[\"title_field\"]==\"Occupied Housing Units\")].values\n",
        "    return total[0][2], vacant[0][2], occupied[0][2]\n",
        "\n",
        "print(\"Year   Vacant    Occupied\")\n",
        "for i in range(2008,2015):\n",
        "    vacant, occupied = calculate_percentage(find_value(i, data))\n",
        "    print(i,\" \", round(vacant,2),\"%\",\"\\t\", round(occupied,2),\"%\") \n",
        "   \n"
      ]
    },
    {
      "cell_type": "markdown",
      "metadata": {
        "id": "PzfchWnwXo9K"
      },
      "source": [
        "(3) (10 pts) Calculate and print the valued and years in which the highest number of housing units were vacant and occupied. Print the results in the following format:"
      ]
    },
    {
      "cell_type": "code",
      "execution_count": 15,
      "metadata": {
        "colab": {
          "base_uri": "https://localhost:8080/"
        },
        "id": "QouqHxfQXo9K",
        "outputId": "14ddaec7-5621-40ce-bbf7-27ee33a179d4"
      },
      "outputs": [
        {
          "output_type": "stream",
          "name": "stdout",
          "text": [
            "\t\t\t   Year \t Value\n",
            "Vacant Housing Units \t   2008 \t 4483\n",
            "Occupied Housing Units \t   2014 \t 46295\n"
          ]
        }
      ],
      "source": [
        "vacant=[]\n",
        "occupied=[]\n",
        "for i in range(2008, 2015):\n",
        "    total, vacan, occupie = find_value(i,data)\n",
        "    vacant.append(vacan)\n",
        "    occupied.append(occupie)\n",
        "print(\"\\t\\t\\t   Year \\t Value\")\n",
        "print(\"Vacant Housing Units\", \"\\t  \", vacant.index(max(vacant))+2008, \"\\t\", max(vacant))\n",
        "print(\"Occupied Housing Units\", \"\\t  \", occupied.index(max(occupied))+2008, \"\\t\", max(occupied))    "
      ]
    },
    {
      "cell_type": "markdown",
      "metadata": {
        "id": "HAyGQmP-Xo9L"
      },
      "source": [
        "(4) (10 pts) Calculate the harmonic mean of the total housing units and print it out."
      ]
    },
    {
      "cell_type": "code",
      "execution_count": 16,
      "metadata": {
        "id": "id9zRnzzXo9L"
      },
      "outputs": [],
      "source": [
        "total=[]\n",
        "for year in range(2008, 2015):\n",
        "    total.append(data.loc[np.logical_and(data[\"year\"]==year, data[\"title_field\"]==\"Total Housing Units\")].values[0][2])\n"
      ]
    },
    {
      "cell_type": "code",
      "execution_count": 17,
      "metadata": {
        "colab": {
          "base_uri": "https://localhost:8080/"
        },
        "id": "GhnuJNTzXo9M",
        "outputId": "e1088c1a-157f-48cf-e211-310b38ba0fda"
      },
      "outputs": [
        {
          "output_type": "stream",
          "name": "stdout",
          "text": [
            "Harmonic Mean of Total Housing Units:  44398.29\n"
          ]
        }
      ],
      "source": [
        "def harmonic_mean(values):\n",
        "    den=0\n",
        "    for i in values:\n",
        "        den+= (1/i)\n",
        "    return len(values)/den\n",
        "\n",
        "print(\"Harmonic Mean of Total Housing Units: \",round(harmonic_mean(total), 2))\n",
        "        "
      ]
    },
    {
      "cell_type": "code",
      "execution_count": null,
      "metadata": {
        "id": "rtmfpSKpXo9N"
      },
      "outputs": [],
      "source": []
    }
  ],
  "metadata": {
    "colab": {
      "collapsed_sections": [],
      "provenance": [],
      "include_colab_link": true
    },
    "kernelspec": {
      "display_name": "Python 3 (ipykernel)",
      "language": "python",
      "name": "python3"
    },
    "language_info": {
      "codemirror_mode": {
        "name": "ipython",
        "version": 3
      },
      "file_extension": ".py",
      "mimetype": "text/x-python",
      "name": "python",
      "nbconvert_exporter": "python",
      "pygments_lexer": "ipython3",
      "version": "3.9.7"
    }
  },
  "nbformat": 4,
  "nbformat_minor": 0
}